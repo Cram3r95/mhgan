{
 "cells": [
  {
   "cell_type": "code",
   "execution_count": 1,
   "metadata": {},
   "outputs": [],
   "source": [
    "import yaml\n",
    "import sys\n",
    "import torch\n",
    "import numpy as np\n",
    "from pathlib import Path\n",
    "from prodict import Prodict\n",
    "\n",
    "import matplotlib.pyplot as plt\n",
    "from torch.utils.data import DataLoader\n",
    "\n",
    "BASE_DIR = \"/home/robesafe/tesis/SoPhie\"\n",
    "sys.path.append(BASE_DIR)\n",
    "\n",
    "from sophie.utils.utils import relative_to_abs_sgan\n",
    "from sophie.models.mp_so import TrajectoryGenerator\n",
    "from sophie.data_loader.argoverse.dataset_sgan_version import ArgoverseMotionForecastingDataset, seq_collate\n",
    "from sophie.trainers.trainer_sophie_adaptation import cal_ade, cal_fde"
   ]
  },
  {
   "cell_type": "markdown",
   "metadata": {},
   "source": [
    "## Load config "
   ]
  },
  {
   "cell_type": "code",
   "execution_count": 2,
   "metadata": {},
   "outputs": [],
   "source": [
    "config_dir = BASE_DIR + \"/configs/sophie_argoverse.yml\"\n",
    "with open(config_dir) as config:\n",
    "    config = yaml.safe_load(config)\n",
    "    config = Prodict.from_dict(config)\n",
    "    config.base_dir = BASE_DIR\n",
    "\n",
    "# Fill some additional dimensions\n",
    "\n",
    "past_observations = config.hyperparameters.obs_len\n",
    "num_agents_per_obs = config.hyperparameters.num_agents_per_obs\n",
    "config.sophie.generator.social_attention.linear_decoder.out_features = past_observations * num_agents_per_obs"
   ]
  },
  {
   "cell_type": "markdown",
   "metadata": {},
   "source": [
    "## Load dataset"
   ]
  },
  {
   "cell_type": "code",
   "execution_count": 3,
   "metadata": {},
   "outputs": [
    {
     "name": "stdout",
     "output_type": "stream",
     "text": [
      "dataset path:  /home/robesafe/tesis/SoPhie/data/datasets/argoverse/motion-forecasting/\n",
      "Num files:  39472\n",
      "Start Dataset\n",
      "Dataset time:  1.3086674213409424\n"
     ]
    }
   ],
   "source": [
    "split_percentage = 0.005\n",
    "batch_size = 1\n",
    "\n",
    "config.dataset.path = BASE_DIR + \"/\" + \"data/datasets/argoverse/motion-forecasting/\"\n",
    "\n",
    "print(\"dataset path: \", config.dataset.path)\n",
    "\n",
    "data = ArgoverseMotionForecastingDataset(dataset_name=config.dataset_name,\n",
    "                                                 root_folder=config.dataset.path,\n",
    "                                                 obs_len=config.hyperparameters.obs_len,\n",
    "                                                 pred_len=config.hyperparameters.pred_len,\n",
    "                                                 distance_threshold=config.hyperparameters.distance_threshold,\n",
    "                                                 split=\"val\",\n",
    "                                                 num_agents_per_obs=config.hyperparameters.num_agents_per_obs,\n",
    "                                                 split_percentage=split_percentage,\n",
    "                                                 shuffle=False)\n",
    "\n",
    "\n",
    "loader = DataLoader(data,\n",
    "                    batch_size=batch_size,\n",
    "                    shuffle=False,\n",
    "                    num_workers=0,\n",
    "                    collate_fn=seq_collate)"
   ]
  },
  {
   "cell_type": "markdown",
   "metadata": {},
   "source": [
    "## Load generator from checkpoint"
   ]
  },
  {
   "cell_type": "code",
   "execution_count": 4,
   "metadata": {},
   "outputs": [
    {
     "data": {
      "text/plain": [
       "TrajectoryGenerator(\n",
       "  (encoder): EncoderLSTM(\n",
       "    (encoder): LSTM(16, 32)\n",
       "    (spatial_embedding): Linear(in_features=2, out_features=16, bias=True)\n",
       "  )\n",
       "  (lne): LayerNorm((32,), eps=1e-05, elementwise_affine=True)\n",
       "  (sattn): MultiHeadAttention(\n",
       "    (attention): DotProductAttention(\n",
       "      (dropout): Dropout(p=0.3, inplace=False)\n",
       "    )\n",
       "    (W_q): Linear(in_features=32, out_features=32, bias=False)\n",
       "    (W_k): Linear(in_features=32, out_features=32, bias=False)\n",
       "    (W_v): Linear(in_features=32, out_features=32, bias=False)\n",
       "    (W_o): Linear(in_features=32, out_features=32, bias=False)\n",
       "  )\n",
       "  (decoder): TemporalDecoderLSTM(\n",
       "    (decoder): LSTM(16, 32)\n",
       "    (spatial_embedding): Linear(in_features=40, out_features=16, bias=True)\n",
       "    (ln1): LayerNorm((40,), eps=1e-05, elementwise_affine=True)\n",
       "    (hidden2pos): Linear(in_features=32, out_features=2, bias=True)\n",
       "    (ln2): LayerNorm((32,), eps=1e-05, elementwise_affine=True)\n",
       "  )\n",
       "  (lnc): LayerNorm((64,), eps=1e-05, elementwise_affine=True)\n",
       "  (mlp_decoder_context): Sequential(\n",
       "    (0): Linear(in_features=64, out_features=64, bias=True)\n",
       "    (1): LeakyReLU(negative_slope=0.01)\n",
       "    (2): Linear(in_features=64, out_features=24, bias=True)\n",
       "    (3): LeakyReLU(negative_slope=0.01)\n",
       "  )\n",
       ")"
      ]
     },
     "execution_count": 4,
     "metadata": {},
     "output_type": "execute_result"
    }
   ],
   "source": [
    "# model_path = \"/home/robesafe/tmp/exp9_argoverse_motion_forecasting_dataset_0_with_model.pt\"\n",
    "exp_name = \"gen_exp/exp7/\"\n",
    "model_path = BASE_DIR + \"/save/argoverse/\" + exp_name + \"/argoverse_motion_forecasting_dataset_0_with_model.pt\"\n",
    "checkpoint = torch.load(model_path)\n",
    "generator = TrajectoryGenerator(config.sophie.generator)\n",
    "generator.load_state_dict(checkpoint.config_cp['g_best_state'])\n",
    "generator.cuda() # Use GPU\n",
    "generator.eval()"
   ]
  },
  {
   "cell_type": "markdown",
   "metadata": {},
   "source": [
    "## Run test"
   ]
  },
  {
   "cell_type": "code",
   "execution_count": 6,
   "metadata": {
    "tags": []
   },
   "outputs": [
    {
     "name": "stdout",
     "output_type": "stream",
     "text": [
      "(1,) [2]\n",
      "(1,) [1]\n",
      "(1,) [11]\n",
      "(1,) [2]\n",
      "(1,) [3]\n",
      "(1,) [2]\n",
      "(1,) [1]\n",
      "(1,) [2]\n",
      "(1,) [1]\n",
      "(1,) [5]\n",
      "(1,) [1]\n",
      "(1,) [1]\n",
      "(1,) [14]\n",
      "(1,) [2]\n",
      "(1,) [2]\n",
      "(1,) [3]\n",
      "(1,) [3]\n",
      "(1,) [2]\n",
      "(1,) [2]\n",
      "(1,) [2]\n",
      "(1,) [6]\n",
      "(1,) [2]\n",
      "(1,) [1]\n",
      "(1,) [21]\n",
      "(1,) [1]\n",
      "(1,) [3]\n",
      "(1,) [3]\n",
      "(1,) [2]\n",
      "(1,) [3]\n",
      "(1,) [5]\n",
      "(1,) [1]\n",
      "(1,) [1]\n",
      "(1,) [14]\n",
      "(1,) [7]\n",
      "(1,) [1]\n",
      "(1,) [1]\n",
      "(1,) [4]\n",
      "(1,) [12]\n",
      "(1,) [7]\n",
      "(1,) [1]\n",
      "(1,) [15]\n",
      "(1,) [7]\n",
      "(1,) [2]\n",
      "(1,) [1]\n",
      "(1,) [6]\n",
      "(1,) [2]\n",
      "(1,) [2]\n",
      "(1,) [2]\n",
      "(1,) [3]\n",
      "(1,) [5]\n",
      "(1,) [19]\n",
      "(1,) [2]\n",
      "(1,) [1]\n",
      "(1,) [1]\n",
      "(1,) [1]\n",
      "(1,) [3]\n",
      "(1,) [1]\n",
      "(1,) [14]\n",
      "(1,) [7]\n",
      "(1,) [3]\n",
      "(1,) [1]\n",
      "(1,) [2]\n",
      " 61 - tensor([63], device='cuda:0', dtype=torch.int32)\n",
      "(1,) [6]\n",
      "(1,) [2]\n",
      "(1,) [3]\n",
      "(1,) [3]\n",
      "(1,) [11]\n",
      "(1,) [2]\n",
      "(1,) [2]\n",
      "(1,) [3]\n",
      "(1,) [1]\n",
      "(1,) [2]\n",
      "(1,) [5]\n",
      "(1,) [1]\n",
      "(1,) [1]\n",
      "(1,) [15]\n",
      "(1,) [1]\n",
      "(1,) [5]\n",
      "(1,) [1]\n",
      "(1,) [1]\n",
      "(1,) [16]\n",
      "(1,) [7]\n",
      "(1,) [17]\n",
      "(1,) [1]\n",
      "(1,) [1]\n",
      "(1,) [1]\n",
      "(1,) [1]\n",
      "(1,) [2]\n",
      "(1,) [3]\n",
      "(1,) [4]\n",
      "(1,) [9]\n",
      "(1,) [4]\n",
      "(1,) [4]\n",
      "(1,) [1]\n",
      "(1,) [4]\n",
      "(1,) [5]\n",
      "(1,) [1]\n",
      "(1,) [1]\n",
      "(1,) [1]\n",
      "(1,) [6]\n"
     ]
    }
   ],
   "source": [
    "num_samples = 5\n",
    "output_all = []\n",
    "\n",
    "ade_list = []\n",
    "fde_list = []\n",
    "\n",
    "with torch.no_grad():\n",
    "    for batch_index, batch in enumerate(loader):\n",
    "        if batch_index > 99:\n",
    "            break\n",
    "        batch = [tensor.cuda() for tensor in batch]\n",
    "        \n",
    "        (obs_traj, pred_traj_gt, obs_traj_rel, pred_traj_gt_rel, non_linear_obj,\n",
    "            loss_mask, seq_start_end, frames, object_cls, obj_id, ego_origin, nsl,_) = batch\n",
    "\n",
    "        predicted_traj = []\n",
    "        agent_idx = torch.where(object_cls==1)[0].cpu().numpy()\n",
    "        traj_real = torch.cat([obs_traj, pred_traj_gt], dim=0) + ego_origin.permute(1,0,2)\n",
    "        predicted_traj.append(traj_real[:, agent_idx,:])\n",
    "        print(agent_idx.shape, agent_idx)\n",
    "        for _ in range(num_samples):\n",
    "            # Get predictions\n",
    "            pred_traj_fake_rel = generator( # 30, 1 , 2\n",
    "                obs_traj,\n",
    "                obs_traj_rel, \n",
    "                seq_start_end,\n",
    "                agent_idx,\n",
    "                # seq_start_end\n",
    "            )\n",
    "            \n",
    "            agent_obj_id = obj_id[agent_idx]\n",
    "\n",
    "            # Get predictions in absolute coordinates\n",
    "            pred_traj_fake = relative_to_abs_sgan(pred_traj_fake_rel, obs_traj[-1,agent_idx, :]) # 30,1,2\n",
    "            traj_fake = torch.cat([obs_traj[:,agent_idx, :], pred_traj_fake], dim=0) + ego_origin.permute(1,0,2)# 50,1,2\n",
    "            predicted_traj.append(traj_fake)\n",
    "        \n",
    "        predicted_traj = torch.stack(predicted_traj, axis=0)\n",
    "        predicted_traj = predicted_traj.cpu().numpy()\n",
    "        if batch_index == 61:\n",
    "            print(f\" {batch_index} - {nsl}\")\n",
    "        output_all.append(predicted_traj)"
   ]
  },
  {
   "cell_type": "markdown",
   "metadata": {},
   "source": [
    "## Show trajectories"
   ]
  },
  {
   "cell_type": "code",
   "execution_count": 8,
   "metadata": {},
   "outputs": [
    {
     "name": "stdout",
     "output_type": "stream",
     "text": [
      "predicted_traj  (6, 50, 1, 2)\n"
     ]
    },
    {
     "data": {
      "image/png": "[encoded data removed]",
      "text/plain": [
       "<Figure size 720x720 with 1 Axes>"
      ]
     },
     "metadata": {
      "needs_background": "light"
     },
     "output_type": "display_data"
    }
   ],
   "source": [
    "\n",
    "import matplotlib\n",
    "ax = plt.gca()\n",
    "# 10, 12, 13, 14, 23(wtf), 37(wtf), 48(wtf), 49(wtf), 71(wtf)\n",
    "# 75, 80,  (gooooood)\n",
    "predicted_traj = output_all[71]\n",
    "print(\"predicted_traj \", predicted_traj.shape)\n",
    "with plt.rc_context({'xtick.color': 'white', 'ytick.color': 'white'}):\n",
    "    plt.grid(linestyle='-', linewidth=2)\n",
    "    plt.plot(predicted_traj[0,0,0,0],predicted_traj[0,0,0,1],'-o',c='r') #starting point here\n",
    "    plt.plot(predicted_traj[0,:21,:,0],predicted_traj[0,:21,:,1],'*',c='b')\n",
    "\n",
    "    for i in range(predicted_traj.shape[0]):\n",
    "        if i == 0:\n",
    "            c = 'black'\n",
    "        else:\n",
    "            c= np.random.rand(3,)\n",
    "        plt.plot(predicted_traj[i,20:,:,0],predicted_traj[i,20:,:,1],'*',c=c)#np.random.rand(3,)\n",
    "    plt.xlabel('map_x_coord (m)')\n",
    "    plt.ylabel('map_y_coord (m)')\n",
    "\n",
    "    ax.set_aspect('equal')\n",
    "    ax.figure.set_size_inches(10,10)\n",
    "    plt.show()"
   ]
  },
  {
   "cell_type": "code",
   "execution_count": null,
   "metadata": {},
   "outputs": [],
   "source": []
  }
 ],
 "metadata": {
  "interpreter": {
   "hash": "31f2aee4e71d21fbe5cf8b01ff0e069b9275f58929596ceb00d14d90e3e16cd6"
  },
  "kernelspec": {
   "display_name": "Python 3 (ipykernel)",
   "language": "python",
   "name": "python3"
  },
  "language_info": {
   "codemirror_mode": {
    "name": "ipython",
    "version": 3
   },
   "file_extension": ".py",
   "mimetype": "text/x-python",
   "name": "python",
   "nbconvert_exporter": "python",
   "pygments_lexer": "ipython3",
   "version": "3.6.9"
  }
 },
 "nbformat": 4,
 "nbformat_minor": 2
}
