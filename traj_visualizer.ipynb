{
 "cells": [
  {
   "cell_type": "code",
   "execution_count": 1,
   "metadata": {},
   "outputs": [
    {
     "name": "stdout",
     "output_type": "stream",
     "text": [
      "INFO:argoverse.data_loading.vector_map_loader:Loaded root: ArgoverseVectorMap\n",
      "INFO:argoverse.data_loading.vector_map_loader:Loaded root: ArgoverseVectorMap\n"
     ]
    }
   ],
   "source": [
    "import yaml\n",
    "import torch\n",
    "import numpy as np\n",
    "from pathlib import Path\n",
    "from prodict import Prodict\n",
    "\n",
    "import matplotlib.pyplot as plt\n",
    "from torch.utils.data import DataLoader\n",
    "\n",
    "from sophie.utils.utils import relative_to_abs_sgan\n",
    "from sophie.models.sophie_adaptation import TrajectoryGenerator\n",
    "from sophie.data_loader.argoverse.dataset_sgan_version import ArgoverseMotionForecastingDataset, seq_collate"
   ]
  },
  {
   "cell_type": "markdown",
   "metadata": {},
   "source": [
    "## Load config "
   ]
  },
  {
   "cell_type": "code",
   "execution_count": 2,
   "metadata": {},
   "outputs": [],
   "source": [
    "BASE_DIR = \"/home/robesafe/tesis/SoPhie\"\n",
    "\n",
    "with open(r'./configs/sophie_argoverse.yml') as config:\n",
    "    config = yaml.safe_load(config)\n",
    "    config = Prodict.from_dict(config)\n",
    "    config.base_dir = BASE_DIR\n",
    "\n",
    "# Fill some additional dimensions\n",
    "\n",
    "past_observations = config.hyperparameters.obs_len\n",
    "num_agents_per_obs = config.hyperparameters.num_agents_per_obs\n",
    "config.sophie.generator.social_attention.linear_decoder.out_features = past_observations * num_agents_per_obs"
   ]
  },
  {
   "cell_type": "markdown",
   "metadata": {},
   "source": [
    "## Load dataset"
   ]
  },
  {
   "cell_type": "code",
   "execution_count": 3,
   "metadata": {},
   "outputs": [
    {
     "name": "stdout",
     "output_type": "stream",
     "text": [
      "Start Dataset\n",
      "Dataset time:  13.628638744354248\n"
     ]
    }
   ],
   "source": [
    "split_percentage = 0.05\n",
    "batch_size = 1\n",
    "# data = ArgoverseMotionForecastingDataset(dataset_name=config.dataset_name,\n",
    "#                                                   root_folder=config.dataset.path,\n",
    "#                                                   obs_len=config.hyperparameters.obs_len,\n",
    "#                                                   pred_len=0,\n",
    "#                                                   distance_threshold=config.hyperparameters.distance_threshold,\n",
    "#                                                   split=\"test\",\n",
    "#                                                   num_agents_per_obs=config.hyperparameters.num_agents_per_obs,\n",
    "#                                                   split_percentage=split_percentage)\n",
    "\n",
    "data = ArgoverseMotionForecastingDataset(dataset_name=config.dataset_name,\n",
    "                                                 root_folder=config.dataset.path,\n",
    "                                                 obs_len=config.hyperparameters.obs_len,\n",
    "                                                 pred_len=config.hyperparameters.pred_len,\n",
    "                                                 distance_threshold=config.hyperparameters.distance_threshold,\n",
    "                                                 split=\"val\",\n",
    "                                                 num_agents_per_obs=config.hyperparameters.num_agents_per_obs,\n",
    "                                                 split_percentage=split_percentage,\n",
    "                                                 shuffle=config.dataset.shuffle)\n",
    "\n",
    "\n",
    "loader = DataLoader(data,\n",
    "                    batch_size=batch_size,\n",
    "                    shuffle=False,\n",
    "                    num_workers=0,\n",
    "                    collate_fn=seq_collate)"
   ]
  },
  {
   "cell_type": "markdown",
   "metadata": {},
   "source": [
    "## Load generator from checkpoint"
   ]
  },
  {
   "cell_type": "code",
   "execution_count": 48,
   "metadata": {},
   "outputs": [
    {
     "data": {
      "text/plain": [
       "TrajectoryGenerator(\n",
       "  (visual_feature_extractor): VisualExtractor(\n",
       "    (module): VGG(\n",
       "      (module): Sequential(\n",
       "        (0): Conv2d(3, 64, kernel_size=(3, 3), stride=(1, 1), padding=(1, 1))\n",
       "        (1): ReLU(inplace=True)\n",
       "        (2): Conv2d(64, 64, kernel_size=(3, 3), stride=(1, 1), padding=(1, 1))\n",
       "        (3): ReLU(inplace=True)\n",
       "        (4): MaxPool2d(kernel_size=2, stride=2, padding=0, dilation=1, ceil_mode=False)\n",
       "        (5): Conv2d(64, 128, kernel_size=(3, 3), stride=(1, 1), padding=(1, 1))\n",
       "        (6): ReLU(inplace=True)\n",
       "        (7): Conv2d(128, 128, kernel_size=(3, 3), stride=(1, 1), padding=(1, 1))\n",
       "        (8): ReLU(inplace=True)\n",
       "        (9): MaxPool2d(kernel_size=2, stride=2, padding=0, dilation=1, ceil_mode=False)\n",
       "        (10): Conv2d(128, 256, kernel_size=(3, 3), stride=(1, 1), padding=(1, 1))\n",
       "        (11): ReLU(inplace=True)\n",
       "        (12): Conv2d(256, 256, kernel_size=(3, 3), stride=(1, 1), padding=(1, 1))\n",
       "        (13): ReLU(inplace=True)\n",
       "        (14): Conv2d(256, 256, kernel_size=(3, 3), stride=(1, 1), padding=(1, 1))\n",
       "        (15): ReLU(inplace=True)\n",
       "        (16): Conv2d(256, 256, kernel_size=(3, 3), stride=(1, 1), padding=(1, 1))\n",
       "        (17): ReLU(inplace=True)\n",
       "        (18): MaxPool2d(kernel_size=2, stride=2, padding=0, dilation=1, ceil_mode=False)\n",
       "        (19): Conv2d(256, 512, kernel_size=(3, 3), stride=(1, 1), padding=(1, 1))\n",
       "        (20): ReLU(inplace=True)\n",
       "        (21): Conv2d(512, 512, kernel_size=(3, 3), stride=(1, 1), padding=(1, 1))\n",
       "        (22): ReLU(inplace=True)\n",
       "        (23): Conv2d(512, 512, kernel_size=(3, 3), stride=(1, 1), padding=(1, 1))\n",
       "        (24): ReLU(inplace=True)\n",
       "        (25): Conv2d(512, 512, kernel_size=(3, 3), stride=(1, 1), padding=(1, 1))\n",
       "        (26): ReLU(inplace=True)\n",
       "        (27): MaxPool2d(kernel_size=2, stride=2, padding=0, dilation=1, ceil_mode=False)\n",
       "        (28): Conv2d(512, 512, kernel_size=(3, 3), stride=(1, 1), padding=(1, 1))\n",
       "        (29): ReLU(inplace=True)\n",
       "        (30): Conv2d(512, 512, kernel_size=(3, 3), stride=(1, 1), padding=(1, 1))\n",
       "        (31): ReLU(inplace=True)\n",
       "        (32): Conv2d(512, 512, kernel_size=(3, 3), stride=(1, 1), padding=(1, 1))\n",
       "        (33): ReLU(inplace=True)\n",
       "        (34): Conv2d(512, 512, kernel_size=(3, 3), stride=(1, 1), padding=(1, 1))\n",
       "        (35): ReLU(inplace=True)\n",
       "        (36): MaxPool2d(kernel_size=2, stride=2, padding=0, dilation=1, ceil_mode=False)\n",
       "      )\n",
       "    )\n",
       "  )\n",
       "  (encoder): Encoder(\n",
       "    (encoder): LSTM(16, 32)\n",
       "    (spatial_embedding): Linear(in_features=2, out_features=16, bias=True)\n",
       "  )\n",
       "  (sattn): MultiHeadAttention(\n",
       "    (attention): DotProductAttention(\n",
       "      (dropout): Dropout(p=0, inplace=False)\n",
       "    )\n",
       "    (W_q): Linear(in_features=32, out_features=32, bias=False)\n",
       "    (W_k): Linear(in_features=32, out_features=32, bias=False)\n",
       "    (W_v): Linear(in_features=32, out_features=32, bias=False)\n",
       "    (W_o): Linear(in_features=32, out_features=32, bias=False)\n",
       "  )\n",
       "  (pos_encoding): PositionalEncoding(\n",
       "    (dropout): Dropout(p=0, inplace=False)\n",
       "  )\n",
       "  (pattn): MultiHeadAttention(\n",
       "    (attention): DotProductAttention(\n",
       "      (dropout): Dropout(p=0, inplace=False)\n",
       "    )\n",
       "    (W_q): Linear(in_features=32, out_features=32, bias=False)\n",
       "    (W_k): Linear(in_features=18432, out_features=32, bias=False)\n",
       "    (W_v): Linear(in_features=18432, out_features=32, bias=False)\n",
       "    (W_o): Linear(in_features=32, out_features=32, bias=False)\n",
       "  )\n",
       "  (decoder): Decoder(\n",
       "    (decoder): LSTM(16, 32)\n",
       "    (spatial_embedding): Linear(in_features=2, out_features=16, bias=True)\n",
       "    (hidden2pos): Linear(in_features=32, out_features=2, bias=True)\n",
       "  )\n",
       "  (mlp_decoder_context): Sequential(\n",
       "    (0): Linear(in_features=64, out_features=64, bias=True)\n",
       "    (1): LeakyReLU(negative_slope=0.01)\n",
       "    (2): Linear(in_features=64, out_features=24, bias=True)\n",
       "    (3): LeakyReLU(negative_slope=0.01)\n",
       "  )\n",
       ")"
      ]
     },
     "execution_count": 48,
     "metadata": {},
     "output_type": "execute_result"
    }
   ],
   "source": [
    "model_path = \"./save/argoverse/exp7/argoverse_motion_forecasting_dataset_0_with_model.pt\"\n",
    "checkpoint = torch.load(model_path)\n",
    "generator = TrajectoryGenerator(config.sophie.generator)\n",
    "generator.load_state_dict(checkpoint.config_cp['g_state'])\n",
    "generator.cuda() # Use GPU\n",
    "generator.eval()"
   ]
  },
  {
   "cell_type": "markdown",
   "metadata": {},
   "source": [
    "## Run test"
   ]
  },
  {
   "cell_type": "code",
   "execution_count": 58,
   "metadata": {},
   "outputs": [],
   "source": [
    "num_samples = 3\n",
    "output_all = []\n",
    "with torch.no_grad():\n",
    "    for batch_index, batch in enumerate(loader):\n",
    "        if batch_index > 10:\n",
    "            break\n",
    "        batch = [tensor.cuda() for tensor in batch]\n",
    "        (obs_traj, pred_traj_gt, obs_traj_rel, pred_traj_gt_rel, non_linear_obj,\n",
    "                    loss_mask, seq_start_end, frames, object_cls, obj_id, ego_origin, num_seq_list) = batch\n",
    "        predicted_traj = []\n",
    "        agent_idx = int(torch.where(object_cls==1)[0].cpu().item())\n",
    "        traj_real = torch.cat([obs_traj, pred_traj_gt], dim=0)\n",
    "        predicted_traj.append(traj_real[:, agent_idx,:])\n",
    "        for _ in range(num_samples):\n",
    "\n",
    "            # Get predictions\n",
    "            pred_traj_fake_rel = generator(obs_traj, obs_traj_rel, frames)\n",
    "\n",
    "            # Get predictions in absolute coordinates\n",
    "            pred_traj_fake = relative_to_abs_sgan(pred_traj_fake_rel, obs_traj[-1])\n",
    "            traj_fake = torch.cat([obs_traj, pred_traj_fake], dim=0)\n",
    "            predicted_traj.append(traj_fake[:,agent_idx,:])\n",
    "        predicted_traj = torch.stack(predicted_traj, axis=0)\n",
    "        predicted_traj = predicted_traj.cpu().numpy()\n",
    "        output_all.append(predicted_traj)"
   ]
  },
  {
   "cell_type": "markdown",
   "metadata": {},
   "source": [
    "## Show trajectories"
   ]
  },
  {
   "cell_type": "code",
   "execution_count": 68,
   "metadata": {},
   "outputs": [
    {
     "data": {
      "image/png": "[encoded data removed]",
      "text/plain": [
       "<Figure size 720x720 with 1 Axes>"
      ]
     },
     "metadata": {
      "needs_background": "light"
     },
     "output_type": "display_data"
    }
   ],
   "source": [
    "import matplotlib\n",
    "ax = plt.gca()\n",
    "\n",
    "predicted_traj = output_all[6]\n",
    "with plt.rc_context({'xtick.color': 'white', 'ytick.color': 'white'}):\n",
    "    plt.grid(linestyle='-', linewidth=2)\n",
    "    plt.plot(predicted_traj[0,0,0],predicted_traj[0,0,1],'-o',c='r') #starting point here\n",
    "    plt.plot(predicted_traj[0,:21,0],predicted_traj[0,:21,1],'*',c='b')\n",
    "\n",
    "    for i in range(len(predicted_traj)):\n",
    "        if i == 0:\n",
    "            c = 'black'\n",
    "        else:\n",
    "            c= np.random.rand(3,)\n",
    "        plt.plot(predicted_traj[i,20:,0],predicted_traj[i,20:,1],'*',c=c)#np.random.rand(3,)\n",
    "    plt.xlabel('map_x_coord (m)')\n",
    "    plt.ylabel('map_y_coord (m)')\n",
    "    ax.set_aspect('equal')\n",
    "    ax.figure.set_size_inches(10,10)\n",
    "    plt.show()"
   ]
  },
  {
   "cell_type": "code",
   "execution_count": 22,
   "metadata": {},
   "outputs": [
    {
     "data": {
      "text/plain": [
       "array([[1536.6025 ,  241.84793],\n",
       "       [1536.5859 ,  241.86697],\n",
       "       [1536.5889 ,  241.87119],\n",
       "       [1536.5875 ,  241.87154],\n",
       "       [1536.6002 ,  241.83514],\n",
       "       [1536.5891 ,  241.86632]], dtype=float32)"
      ]
     },
     "execution_count": 22,
     "metadata": {},
     "output_type": "execute_result"
    }
   ],
   "source": [
    "predicted_traj.shape\n",
    "predicted_traj[:, 0,:]"
   ]
  }
 ],
 "metadata": {
  "interpreter": {
   "hash": "31f2aee4e71d21fbe5cf8b01ff0e069b9275f58929596ceb00d14d90e3e16cd6"
  },
  "kernelspec": {
   "display_name": "Python 3.6.9 64-bit",
   "language": "python",
   "name": "python3"
  },
  "language_info": {
   "codemirror_mode": {
    "name": "ipython",
    "version": 3
   },
   "file_extension": ".py",
   "mimetype": "text/x-python",
   "name": "python",
   "nbconvert_exporter": "python",
   "pygments_lexer": "ipython3",
   "version": "3.6.9"
  },
  "orig_nbformat": 4
 },
 "nbformat": 4,
 "nbformat_minor": 2
}
